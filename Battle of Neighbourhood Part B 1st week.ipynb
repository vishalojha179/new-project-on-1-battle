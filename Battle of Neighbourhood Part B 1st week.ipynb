{
    "cells": [
        {
            "metadata": {
                "collapsed": true
            },
            "cell_type": "markdown",
            "source": "### The Battle of the Neighborhoods - Week 1"
        },
        {
            "metadata": {},
            "cell_type": "markdown",
            "source": "### Data:"
        },
        {
            "metadata": {},
            "cell_type": "markdown",
            "source": "The City that i have selected for the project is New York as its one of the most important city in United States.\nThe different sources that we will be using for extracting data are listed below for further references\n\n1> We will be using the DOHMH Farmers Markets and Food Boxes dataset. This helps us understand the \ncomplete details regarding the different farms and about the products grown there and also helps us understand the travel distance for the raw products.\nthe link has been added below.\n\n: https://data.cityofnewyork.us/dataset/DOHMH-Farmers-Markets-and-Food-Boxes/8vwk-6iz2\n\nWebsite-https://www.grownyc.org/greenmarketco/foodbox\n\nThe Food Box program deals with helping under-privileged people to be able to procure fresh food products at a reasonable price.\n\nFarmers Market is a place, where farmers are able to sell their product directly to consumer at a resonable price \n\n"
        },
        {
            "metadata": {},
            "cell_type": "markdown",
            "source": "2> We will also look at various other information as well such as\n\nA> New York Population\n\nB> Economy of New York City\n\nC> New York City Demographics\n\nD> Cuisine of New York city\n\nE> Restaurants details araound the city\n\nThe Relevent Details have been attached below.\n\n\nhttps://en.wikipedia.org/wiki/New_York_City\n    \nhttps://en.wikipedia.org/wiki/Economy_of_New_York_City\n    \nhttps://en.wikipedia.org/wiki/Portal:New_York_City\n        \nhttps://en.wikipedia.org/wiki/Cuisine_of_New_York_City\n    \nhttps://en.wikipedia.org/wiki/List_of_Michelin_starred_restaurants_in_New_York_City"
        },
        {
            "metadata": {},
            "cell_type": "markdown",
            "source": "3> We will also take help of Gergraphical Coordinates data along with Foursquare API to explore neighborhoods in New York City\n\nwe would consider all 5 boroughs and 306 neighborhoods along with their Latitudes and longitudes to exploer the area and extract all the valuable information from it.\n\nhttps://geo.nyu.edu/catalog/nyu_2451_34572\n\n"
        },
        {
            "metadata": {},
            "cell_type": "code",
            "source": "",
            "execution_count": null,
            "outputs": []
        }
    ],
    "metadata": {
        "kernelspec": {
            "name": "python3",
            "display_name": "Python 3.6",
            "language": "python"
        },
        "language_info": {
            "name": "python",
            "version": "3.6.9",
            "mimetype": "text/x-python",
            "codemirror_mode": {
                "name": "ipython",
                "version": 3
            },
            "pygments_lexer": "ipython3",
            "nbconvert_exporter": "python",
            "file_extension": ".py"
        }
    },
    "nbformat": 4,
    "nbformat_minor": 1
}