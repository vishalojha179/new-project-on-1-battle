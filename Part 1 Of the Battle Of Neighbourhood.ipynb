{
    "cells": [
        {
            "metadata": {
                "collapsed": true
            },
            "cell_type": "markdown",
            "source": "## The Battle of the Neighborhoods - Week 1"
        },
        {
            "metadata": {},
            "cell_type": "markdown",
            "source": "### Introduction & Business Problem :"
        },
        {
            "metadata": {},
            "cell_type": "markdown",
            "source": "#### The New York City is one of the most important and busiest city of United States and caters to people from different cast and creed. It is home of big Business Firms,It is a global hub of business and commerce. The city is a major center for banking and finance, retailing, world trade, transportation, tourism, real estate, new media, traditional media, advertising, legal services, accountancy, insurance, theater, fashion, and the arts in the United States.As it is highly developed city so cost of doing business is also great, so if you are planning to start your own business you need to understand the prespost and analyse well so that you can run a profitable business.\n\n\n"
        },
        {
            "metadata": {},
            "cell_type": "markdown",
            "source": "### Business Problem :"
        },
        {
            "metadata": {},
            "cell_type": "markdown",
            "source": "#### Opening  Restaurent Business is one of the most profitable business that has been in places since ages in New York city, people are foody and they love to eat and explore different taste around.but again like any other business even the restaurent business has its own chalanges and demands. few catogery of the restaurent business has been listed below"
        },
        {
            "metadata": {},
            "cell_type": "markdown",
            "source": "1> The City has migrants from all around the world so the origin of people affect the restaurent and its menu"
        },
        {
            "metadata": {},
            "cell_type": "markdown",
            "source": "2> Italian Restaurents : Serving Pizza And Pasta"
        },
        {
            "metadata": {},
            "cell_type": "markdown",
            "source": "3> Chinese Restaurent: Serving Noodles, Rice, and Soups"
        },
        {
            "metadata": {},
            "cell_type": "markdown",
            "source": "4> The New York famous Food trucks : Serving Hot Dogs Burgers etc"
        },
        {
            "metadata": {},
            "cell_type": "markdown",
            "source": "5> Indian Restaurent: Serving Indian foods"
        },
        {
            "metadata": {},
            "cell_type": "markdown",
            "source": "So after looking at the market it becomes very important that we study the different features that affect the business in order to stand out.\nfew of the different aspects has been listed below"
        },
        {
            "metadata": {},
            "cell_type": "markdown",
            "source": "1> The location of the restaurent from business centres, Malls, Movie Halls, "
        },
        {
            "metadata": {},
            "cell_type": "markdown",
            "source": "2> How Connected is the Restaurent from different means of public transport"
        },
        {
            "metadata": {},
            "cell_type": "markdown",
            "source": "3> How close is the restaurent from Vegetables and fruit market and farms"
        },
        {
            "metadata": {},
            "cell_type": "markdown",
            "source": "4> Who are the competitors in that location?"
        },
        {
            "metadata": {},
            "cell_type": "markdown",
            "source": "5> Cuisine served"
        },
        {
            "metadata": {},
            "cell_type": "markdown",
            "source": "## Target Audience:"
        },
        {
            "metadata": {},
            "cell_type": "markdown",
            "source": "Since One of my Friend wants to start a Restaurent business, Hence helping him understand the data and location which will best fit his budget and cuisine that he wishes to serve at his restaurent and help him fight he great competition "
        },
        {
            "metadata": {},
            "cell_type": "code",
            "source": "",
            "execution_count": null,
            "outputs": []
        }
    ],
    "metadata": {
        "kernelspec": {
            "name": "python3",
            "display_name": "Python 3.6",
            "language": "python"
        },
        "language_info": {
            "name": "python",
            "version": "3.6.9",
            "mimetype": "text/x-python",
            "codemirror_mode": {
                "name": "ipython",
                "version": 3
            },
            "pygments_lexer": "ipython3",
            "nbconvert_exporter": "python",
            "file_extension": ".py"
        }
    },
    "nbformat": 4,
    "nbformat_minor": 1
}